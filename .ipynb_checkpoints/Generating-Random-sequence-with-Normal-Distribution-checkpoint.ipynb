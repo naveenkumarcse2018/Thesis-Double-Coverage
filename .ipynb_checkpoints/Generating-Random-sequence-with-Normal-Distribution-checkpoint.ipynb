{
 "cells": [
  {
   "cell_type": "code",
   "execution_count": 56,
   "id": "satisfied-drilling",
   "metadata": {},
   "outputs": [
    {
     "name": "stdout",
     "output_type": "stream",
     "text": [
      "[2.84048727 7.20288641 3.10599263 7.50212836 7.34306189 6.19188649\n",
      " 3.79397521 6.85784676 4.87600816 5.30350773 5.34087023 7.84503499\n",
      " 3.4048643  3.44962814 7.55483122 5.41187339 3.44546974 7.38234559\n",
      " 4.40866064 7.18038513 5.49181102 4.2072234  6.80832588 4.31403606\n",
      " 4.17806312 3.98057151 3.59373859 6.6446805  4.51792123 2.61765984\n",
      " 6.06477522 5.47592289 3.94163779 4.71679523 3.81033501 8.56709863\n",
      " 4.33667307 6.41319883 7.20762534 5.30893546 5.42499022 5.62432221\n",
      " 4.19118045 4.93770678 3.38836309 3.34756653 3.43266398 5.3385783\n",
      " 6.74729139 3.36837269 3.38065145 4.15409789 4.461875   4.55786277\n",
      " 5.39286689 2.53212554 3.94292755 7.3985438  2.27057667 4.51685504\n",
      " 6.1247496  5.16860605 7.13661671 0.97814082 5.71113793 4.87513151\n",
      " 7.04108494 5.69570322 5.21746607 4.6758144  4.63759742 3.72867845\n",
      " 4.33160824 5.24584313 3.32270067 6.57004907 5.3882271  1.89066111\n",
      " 5.93856401 2.13608504 3.9438474  9.12025873 4.65394039 4.18636757\n",
      " 6.52824027 7.86443705 6.31407094 6.64528712 5.84453442 5.52551991\n",
      " 4.36018547 2.15994522 7.36887982 4.63418866 7.14669349 4.67857008\n",
      " 3.5392909  3.34351811 5.02903776 4.60595457]\n",
      "[3, 7, 3, 8, 7, 6, 4, 7, 5, 5, 5, 8, 3, 3, 8, 5, 3, 7, 4, 7, 5, 4, 7, 4, 4, 4, 4, 7, 5, 3, 6, 5, 4, 5, 4, 9, 4, 6, 7, 5, 5, 6, 4, 5, 3, 3, 3, 5, 7, 3, 3, 4, 4, 5, 5, 3, 4, 7, 2, 5, 6, 5, 7, 1, 6, 5, 7, 6, 5, 5, 5, 4, 4, 5, 3, 7, 5, 2, 6, 2, 4, 9, 5, 4, 7, 8, 6, 7, 6, 6, 4, 2, 7, 5, 7, 5, 4, 3, 5, 5]\n"
     ]
    }
   ],
   "source": [
    "import matplotlib.pyplot as plt\n",
    "import numpy as np\n",
    "import scipy.stats as stats\n",
    "import math\n",
    "\n",
    "r=np.random.normal(loc=5,scale=1.5,size=100)\n",
    "print(r)\n",
    "x=r\n",
    "r=[round(e) for e in r]\n",
    "print(r)"
   ]
  },
  {
   "cell_type": "code",
   "execution_count": 57,
   "id": "solved-sharing",
   "metadata": {},
   "outputs": [
    {
     "ename": "AttributeError",
     "evalue": "module 'statistics' has no attribute 'norm'",
     "output_type": "error",
     "traceback": [
      "\u001b[0;31m---------------------------------------------------------------------------\u001b[0m",
      "\u001b[0;31mAttributeError\u001b[0m                            Traceback (most recent call last)",
      "\u001b[0;32m<ipython-input-57-42859f467468>\u001b[0m in \u001b[0;36m<module>\u001b[0;34m\u001b[0m\n\u001b[1;32m      1\u001b[0m \u001b[0;31m# sigma=math.sqrt(scale\u001b[0m\u001b[0;34m\u001b[0m\u001b[0;34m\u001b[0m\u001b[0;34m\u001b[0m\u001b[0m\n\u001b[0;32m----> 2\u001b[0;31m \u001b[0mplt\u001b[0m\u001b[0;34m.\u001b[0m\u001b[0mplot\u001b[0m\u001b[0;34m(\u001b[0m\u001b[0mx\u001b[0m\u001b[0;34m,\u001b[0m\u001b[0mstat\u001b[0m\u001b[0;34m.\u001b[0m\u001b[0mnorm\u001b[0m\u001b[0;34m.\u001b[0m\u001b[0mpdf\u001b[0m\u001b[0;34m(\u001b[0m\u001b[0mx\u001b[0m\u001b[0;34m,\u001b[0m\u001b[0;36m5\u001b[0m\u001b[0;34m,\u001b[0m\u001b[0;36m1.5\u001b[0m\u001b[0;34m)\u001b[0m\u001b[0;34m)\u001b[0m\u001b[0;34m\u001b[0m\u001b[0;34m\u001b[0m\u001b[0m\n\u001b[0m\u001b[1;32m      3\u001b[0m \u001b[0mplt\u001b[0m\u001b[0;34m.\u001b[0m\u001b[0mshow\u001b[0m\u001b[0;34m(\u001b[0m\u001b[0;34m)\u001b[0m\u001b[0;34m\u001b[0m\u001b[0;34m\u001b[0m\u001b[0m\n\u001b[1;32m      4\u001b[0m \u001b[0;34m\u001b[0m\u001b[0m\n",
      "\u001b[0;31mAttributeError\u001b[0m: module 'statistics' has no attribute 'norm'"
     ]
    }
   ],
   "source": [
    "# sigma=math.sqrt(scale\n",
    "plt.plot(x,stat.norm.pdf(x,5,1.5))\n",
    "plt.show()\n",
    "\n"
   ]
  }
 ],
 "metadata": {
  "kernelspec": {
   "display_name": "Python 3",
   "language": "python",
   "name": "python3"
  },
  "language_info": {
   "codemirror_mode": {
    "name": "ipython",
    "version": 3
   },
   "file_extension": ".py",
   "mimetype": "text/x-python",
   "name": "python",
   "nbconvert_exporter": "python",
   "pygments_lexer": "ipython3",
   "version": "3.8.5"
  }
 },
 "nbformat": 4,
 "nbformat_minor": 5
}
